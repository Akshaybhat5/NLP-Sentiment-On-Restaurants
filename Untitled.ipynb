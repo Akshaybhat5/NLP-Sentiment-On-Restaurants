{
 "cells": [
  {
   "cell_type": "code",
   "execution_count": 2,
   "id": "67cc4789-6537-47e6-96e9-4d5949b2bda7",
   "metadata": {},
   "outputs": [],
   "source": [
    "import pandas as pd\n",
    "import matplotlib.pyplot as plt\n",
    "import numpy as np\n",
    "import os"
   ]
  },
  {
   "cell_type": "code",
   "execution_count": 4,
   "id": "c4ef7753-992f-4f1e-aff0-6c5b9b559576",
   "metadata": {},
   "outputs": [],
   "source": [
    "DATA_PATH = \"\""
   ]
  },
  {
   "cell_type": "code",
   "execution_count": 5,
   "id": "fef36b39-eb15-479d-8560-ae42556aeec4",
   "metadata": {},
   "outputs": [],
   "source": [
    "# load dataset\n",
    "def load_dataset(file_name, data_path = DATA_PATH):\n",
    "    df = os.path.join(data_path, file_name)\n",
    "    return pd.read_csv(df)"
   ]
  },
  {
   "cell_type": "code",
   "execution_count": null,
   "id": "2f893d97-f17a-4bd5-a0da-32cfbf1a2be0",
   "metadata": {},
   "outputs": [],
   "source": [
    "# Exploratory Data Analysis\n",
    " # 1. Descriptive analysis\n",
    " # 2. Explain those descriptives"
   ]
  }
 ],
 "metadata": {
  "kernelspec": {
   "display_name": "Python 3 (ipykernel)",
   "language": "python",
   "name": "python3"
  },
  "language_info": {
   "codemirror_mode": {
    "name": "ipython",
    "version": 3
   },
   "file_extension": ".py",
   "mimetype": "text/x-python",
   "name": "python",
   "nbconvert_exporter": "python",
   "pygments_lexer": "ipython3",
   "version": "3.11.7"
  }
 },
 "nbformat": 4,
 "nbformat_minor": 5
}
